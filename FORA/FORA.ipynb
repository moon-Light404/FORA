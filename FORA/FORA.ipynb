{
 "cells": [
  {
   "cell_type": "code",
   "execution_count": 2,
   "metadata": {},
   "outputs": [],
   "source": [
    "import torch.nn as nn\n",
    "import torchvision.transforms as transforms\n",
    "import torchvision\n",
    "import torch\n"
   ]
  },
  {
   "cell_type": "code",
   "execution_count": 6,
   "metadata": {},
   "outputs": [],
   "source": [
    "device = 'cuda:0'"
   ]
  },
  {
   "cell_type": "code",
   "execution_count": 7,
   "metadata": {},
   "outputs": [
    {
     "name": "stdout",
     "output_type": "stream",
     "text": [
      "Files already downloaded and verified\n"
     ]
    }
   ],
   "source": [
    "cinic_transform = transforms.Compose([\n",
    "                transforms.ToTensor(),\n",
    "                transforms.Normalize((0.5,0.5,0.5), (0.5,0.5,0.5)),\n",
    "            ])\n",
    "train_dataset = torchvision.datasets.CIFAR10(root='./data', train = True, transform=cinic_transform, download=True)\n",
    "dataset_shape = train_dataset[0][0].shape\n",
    "test_data = torch.ones(1,dataset_shape[0], dataset_shape[1], dataset_shape[2]).to(device)"
   ]
  },
  {
   "cell_type": "code",
   "execution_count": 8,
   "metadata": {},
   "outputs": [
    {
     "name": "stdout",
     "output_type": "stream",
     "text": [
      "torch.Size([1, 3, 32, 32])\n"
     ]
    }
   ],
   "source": [
    "print(test_data.shape)"
   ]
  },
  {
   "cell_type": "code",
   "execution_count": 9,
   "metadata": {},
   "outputs": [],
   "source": [
    "from model import vgg16"
   ]
  },
  {
   "cell_type": "code",
   "execution_count": 15,
   "metadata": {},
   "outputs": [],
   "source": [
    "pseudo_model,_ = vgg16(level=int(2), batch_norm=True)\n",
    "pseudo_model = pseudo_model.to(device)\n"
   ]
  },
  {
   "cell_type": "code",
   "execution_count": 16,
   "metadata": {},
   "outputs": [
    {
     "name": "stdout",
     "output_type": "stream",
     "text": [
      "torch.Size([1, 64, 16, 16])\n"
     ]
    }
   ],
   "source": [
    "with torch.no_grad():\n",
    "        test_data_output = pseudo_model(test_data)\n",
    "print(test_data_output.shape)   "
   ]
  },
  {
   "cell_type": "code",
   "execution_count": 2,
   "metadata": {},
   "outputs": [
    {
     "name": "stdout",
     "output_type": "stream",
     "text": [
      "[range(0, 8), range(8, 16), range(16, 24), range(24, 32), range(32, 40), range(40, 48), range(48, 56), range(56, 64)]\n",
      "[0, 8, 16, 24, 32, 40, 48, 56]\n",
      "[1, 9, 17, 25, 33, 41, 49, 57]\n",
      "[2, 10, 18, 26, 34, 42, 50, 58]\n",
      "[3, 11, 19, 27, 35, 43, 51, 59]\n",
      "[4, 12, 20, 28, 36, 44, 52, 60]\n",
      "[5, 13, 21, 29, 37, 45, 53, 61]\n",
      "[6, 14, 22, 30, 38, 46, 54, 62]\n",
      "[7, 15, 23, 31, 39, 47, 55, 63]\n"
     ]
    }
   ],
   "source": [
    "n_domins = 8   \n",
    "indices = [range(i, i + 8) for i in range(0, 64, 64 // n_domins)]\n",
    "print(indices)\n",
    "selected_indices = [r[0] for r in indices]\n",
    "for i  in range(8):\n",
    "    selected_indices = [r[i] for r in indices]\n",
    "    print(selected_indices)\n",
    "# print(selected_indices)\n"
   ]
  }
 ],
 "metadata": {
  "kernelspec": {
   "display_name": "base",
   "language": "python",
   "name": "python3"
  },
  "language_info": {
   "codemirror_mode": {
    "name": "ipython",
    "version": 3
   },
   "file_extension": ".py",
   "mimetype": "text/x-python",
   "name": "python",
   "nbconvert_exporter": "python",
   "pygments_lexer": "ipython3",
   "version": "3.10.14"
  }
 },
 "nbformat": 4,
 "nbformat_minor": 2
}
